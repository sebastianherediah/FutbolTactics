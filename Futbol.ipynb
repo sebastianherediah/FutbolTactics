{
 "cells": [
  {
   "cell_type": "code",
   "execution_count": null,
   "metadata": {
    "vscode": {
     "languageId": "plaintext"
    }
   },
   "outputs": [],
   "source": [
    "from ultralytics import YOLO\n",
    "\n",
    "# Cargar el modelo (asegúrate de que la ruta al modelo es correcta)\n",
    "model = YOLO(\"yolov8n.pt\")\n",
    "\n",
    "# Realizar la inferencia sobre el video y guardar los resultados\n",
    "results = model.predict(\n",
    "    source=\"ruta/a/tu/video.mp4\",  # Reemplaza con la ruta de tu video\n",
    "    show=False,                    # Si no deseas mostrar el video en tiempo real\n",
    "    save=True,                     # Guarda el resultado\n",
    "    project='resultados',          # Carpeta donde se guardarán los resultados\n",
    "    name='video_output',           # Nombre de la subcarpeta para este experimento\n",
    "    conf=0.25                      # Umbral de confianza\n",
    ")\n"
   ]
  }
 ],
 "metadata": {
  "language_info": {
   "name": "python"
  }
 },
 "nbformat": 4,
 "nbformat_minor": 2
}
